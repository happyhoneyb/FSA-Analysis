{
 "cells": [
  {
   "cell_type": "markdown",
   "metadata": {},
   "source": [
    "# Ada Academy Application\n",
    "\n",
    "## September 11, 2017\n",
    "## Melissa Alegre\n",
    "\n",
    "### Overview\n",
    "\n",
    "This notebook contains the code used in answering the questions in 'Step 3: Assessment' for the application to the Ada Academy.\n",
    "\n",
    "### Data Nomenclature Cleaning\n",
    "\n",
    "After inspecting the csv file, I observed that the file contains several rows of text before the actual data. It is clear that certain column names are used multiple times (e.g. # Disbursements). My approach will be to drop the irrelevant rows (first 5) and rename the columns to reflect the given category (e.g. 'DL Subsidized - Undergraduate' etc.). \n",
    "\n",
    "I also observed that the 2015 file differs slightly from the 2010 file: in 2010, the 'DL SUBSIDIZED' category was split into graduate and undergraduate. For 2015, the category was no longer split. The column names will reflect this difference."
   ]
  },
  {
   "cell_type": "code",
   "execution_count": 1,
   "metadata": {
    "collapsed": false
   },
   "outputs": [],
   "source": [
    "#import libraries\n",
    "\n",
    "import pandas as pd\n",
    "import numpy as np\n",
    "import re\n",
    "\n",
    "# change settings to be able to view more columns of the data (the csvs have 30+ columns)\n",
    "\n",
    "pd.options.display.max_columns = 50"
   ]
  },
  {
   "cell_type": "code",
   "execution_count": 2,
   "metadata": {
    "collapsed": false
   },
   "outputs": [
    {
     "name": "stdout",
     "output_type": "stream",
     "text": [
      "2010-2011 data file length: 5597\n",
      "2015-2016 data file length: 4797\n",
      "     OPE ID                          School State Zip Code School Type  \\\n",
      "0  106100.0       ALASKA PACIFIC UNIVERSITY    AK    99508     PRIVATE   \n",
      "1  106300.0  UNIVERSITY OF ALASKA FAIRBANKS    AK    99775      PUBLIC   \n",
      "2  106500.0  UNIVERSITY OF ALASKA SOUTHEAST    AK    99801      PUBLIC   \n",
      "\n",
      "  Recipients # of Loans Originated $ of Loans Originated # of Disbursements  \\\n",
      "0       234                   235         $1,029,839.00                 235   \n",
      "1     1,395                 1,435         $5,199,649.00               1,435   \n",
      "2       375                   385         $1,419,529.00                 385   \n",
      "\n",
      "  $ of Disbursements Recipients.1 # of Loans Originated.1  \\\n",
      "0       $543,444.00          106                     106    \n",
      "1     $2,865,794.00          218                     228    \n",
      "2       $764,945.00           91                      94    \n",
      "\n",
      "  $ of Loans Originated.1 # of Disbursements.1 $ of Disbursements.1  \\\n",
      "0            $807,462.00                   106         $440,993.00    \n",
      "1          $1,533,289.00                   228         $820,725.00    \n",
      "2            $660,772.00                   140         $450,679.00    \n",
      "\n",
      "  Recipients.2 # of Loans Originated.2 $ of Loans Originated.2  \\\n",
      "0         229                     231           $1,130,540.00    \n",
      "1       1,418                   1,489           $6,693,304.00    \n",
      "2         385                     396           $1,951,401.00    \n",
      "\n",
      "  # of Disbursements.2 $ of Disbursements.2 Recipients.3  \\\n",
      "0                  231         $592,659.00           91    \n",
      "1                1,489       $3,672,335.00          155    \n",
      "2                  396       $1,057,175.00           81    \n",
      "\n",
      "  # of Loans Originated.3 $ of Loans Originated.3 # of Disbursements.3  \\\n",
      "0                     91             $952,079.00                    91   \n",
      "1                    162           $1,418,657.00                   162   \n",
      "2                     82             $832,236.00                   116   \n",
      "\n",
      "  $ of Disbursements.3 Recipients.4 # of Loans Originated.4  \\\n",
      "0         $512,270.00           37                      37    \n",
      "1         $775,875.00           70                      80    \n",
      "2         $535,356.00           31                      31    \n",
      "\n",
      "  $ of Loans Originated.4 # of Disbursements.4 $ of Disbursements.4  \\\n",
      "0            $542,912.00                    37         $284,120.00    \n",
      "1            $503,452.00                    80         $261,266.00    \n",
      "2            $318,643.00                    31         $175,974.00    \n",
      "\n",
      "  Recipients.5 # of Loans Originated.5 $ of Loans Originated.5  \\\n",
      "0           4                       4              $50,790.00    \n",
      "1           2                       2              $10,852.00    \n",
      "2           3                       3              $16,251.00    \n",
      "\n",
      "  # of Disbursements.5 $ of Disbursements.5  \n",
      "0                    4          $23,505.00   \n",
      "1                    2           $6,821.00   \n",
      "2                    3           $8,126.00   \n"
     ]
    }
   ],
   "source": [
    "#load csv data into pandas data frames\n",
    "\n",
    "data_2010 = pd.read_csv('DL_Dashboard_AY2010_2011_Q1.csv', skiprows=5)\n",
    "data_2015 = pd.read_csv('DL_Dashboard_AY2015_2016_Q1.csv',skiprows=5)\n",
    "\n",
    "#determine length of files\n",
    "\n",
    "print \"2010-2011 data file length:\", len(data_2010)\n",
    "print \"2015-2016 data file length:\", len(data_2015)\n",
    "\n",
    "#view the top rows of one file\n",
    "\n",
    "print data_2010.head(3)"
   ]
  },
  {
   "cell_type": "code",
   "execution_count": 3,
   "metadata": {
    "collapsed": false
   },
   "outputs": [],
   "source": [
    "'''\n",
    "The following column nomenclature will be used to refect the various categories:\n",
    "\n",
    "dls = DL SUBSIDIZED (2016 only - undergraduate / graduate are not separated)\n",
    "dlsu = DL SUBSIDIZED- UNDERGRADUATE (2011 only)\n",
    "dlsg = DL SUBSIDIZED- GRADUATE (2011 only)\n",
    "dluu = DL UNSUBSIDIZED- UNDERGRADUATE \n",
    "dlug = DL UNSUBSIDIZED- GRADUATE\n",
    "dlpp = DL PARENT PLUS  \n",
    "dlgp = DL GRAD PLUS\n",
    "\n",
    "The following abbreviations will be used for column headers:\n",
    "\n",
    "rec = Recipients\n",
    "nlo = # of Loans Originated\n",
    "dlo = $ of Loans Originated\n",
    "nd = # of Disbursements\n",
    "dd = $ of Disbursements\n",
    "'''\n",
    "\n",
    "#rename columns for both dataframes using the nomenclatures outlined above\n",
    "\n",
    "data_2010.rename(columns={data_2010.columns[5]:'dlsu_rec',data_2010.columns[6]:'dlsu_nlo',\n",
    "                 data_2010.columns[7]:'dlsu_dlo',data_2010.columns[8]:'dlsu_nd',data_2010.columns[9]:'dlsu_dd',\n",
    "                         data_2010.columns[10]:'dlsg_rec',data_2010.columns[11]:'dlsg_nlo',\n",
    "                 data_2010.columns[12]:'dlsg_dlo',data_2010.columns[13]:'dlsg_nd',data_2010.columns[14]:'dlsg_dd',\n",
    "                          data_2010.columns[15]:'dluu_rec',data_2010.columns[16]:'dluu_nlo',\n",
    "                 data_2010.columns[17]:'dluu_dlo',data_2010.columns[18]:'dluu_nd',data_2010.columns[19]:'dluu_dd',\n",
    "                          data_2010.columns[20]:'dlug_rec',data_2010.columns[21]:'dlug_nlo',\n",
    "                 data_2010.columns[22]:'dlug_dlo',data_2010.columns[23]:'dlug_nd',data_2010.columns[24]:'dlug_dd',\n",
    "                          data_2010.columns[25]:'dlpp_rec',data_2010.columns[26]:'dlpp_nlo',\n",
    "                 data_2010.columns[27]:'dlpp_dlo',data_2010.columns[28]:'dlpp_nd',data_2010.columns[29]:'dlpp_dd',\n",
    "                          data_2010.columns[30]:'dlgp_rec',data_2010.columns[31]:'dlgp_nlo',\n",
    "                 data_2010.columns[32]:'dlgp_dlo',data_2010.columns[33]:'dlgp_nd',data_2010.columns[34]:'dlgp_dd'},\n",
    "                 inplace=True)\n",
    "\n",
    "data_2015.rename(columns={data_2015.columns[5]:'dls_rec',data_2015.columns[6]:'dls_nlo',\n",
    "                 data_2015.columns[7]:'dls_dlo',data_2015.columns[8]:'dls_nd',data_2015.columns[9]:'dls_dd',\n",
    "                          data_2015.columns[10]:'dluu_rec',data_2015.columns[11]:'dluu_nlo',\n",
    "                 data_2015.columns[12]:'dluu_dlo',data_2015.columns[13]:'dluu_nd',data_2015.columns[14]:'dluu_dd',\n",
    "                          data_2015.columns[15]:'dlug_rec',data_2015.columns[16]:'dlug_nlo',\n",
    "                 data_2015.columns[17]:'dlug_dlo',data_2015.columns[18]:'dlug_nd',data_2015.columns[19]:'dlug_dd',\n",
    "                          data_2015.columns[20]:'dlpp_rec',data_2015.columns[21]:'dlpp_nlo',\n",
    "                 data_2015.columns[22]:'dlpp_dlo',data_2015.columns[23]:'dlpp_nd',data_2015.columns[24]:'dlpp_dd',\n",
    "                          data_2015.columns[25]:'dlgp_rec',data_2015.columns[26]:'dlgp_nlo',\n",
    "                 data_2015.columns[27]:'dlgp_dlo',data_2015.columns[28]:'dlgp_nd',data_2015.columns[29]:'dlgp_dd'},\n",
    "                 inplace=True)"
   ]
  },
  {
   "cell_type": "code",
   "execution_count": 4,
   "metadata": {
    "collapsed": false
   },
   "outputs": [
    {
     "name": "stdout",
     "output_type": "stream",
     "text": [
      "     OPE ID                          School State Zip Code School Type  \\\n",
      "0  106100.0       ALASKA PACIFIC UNIVERSITY    AK    99508     PRIVATE   \n",
      "1  106300.0  UNIVERSITY OF ALASKA FAIRBANKS    AK    99775      PUBLIC   \n",
      "\n",
      "  dlsu_rec dlsu_nlo         dlsu_dlo dlsu_nd          dlsu_dd dlsg_rec  \\\n",
      "0     234      235    $1,029,839.00      235     $543,444.00      106    \n",
      "1   1,395    1,435    $5,199,649.00    1,435   $2,865,794.00      218    \n",
      "\n",
      "  dlsg_nlo         dlsg_dlo dlsg_nd        dlsg_dd dluu_rec dluu_nlo  \\\n",
      "0     106      $807,462.00      106   $440,993.00      229      231    \n",
      "1     228    $1,533,289.00      228   $820,725.00    1,418    1,489    \n",
      "\n",
      "          dluu_dlo dluu_nd          dluu_dd dlug_rec dlug_nlo  \\\n",
      "0   $1,130,540.00      231     $592,659.00       91       91    \n",
      "1   $6,693,304.00    1,489   $3,672,335.00      155      162    \n",
      "\n",
      "          dlug_dlo dlug_nd        dlug_dd dlpp_rec dlpp_nlo       dlpp_dlo  \\\n",
      "0     $952,079.00       91   $512,270.00       37       37    $542,912.00    \n",
      "1   $1,418,657.00      162   $775,875.00       70       80    $503,452.00    \n",
      "\n",
      "  dlpp_nd        dlpp_dd dlgp_rec dlgp_nlo      dlgp_dlo dlgp_nd       dlgp_dd  \n",
      "0      37   $284,120.00        4        4    $50,790.00        4   $23,505.00   \n",
      "1      80   $261,266.00        2        2    $10,852.00        2    $6,821.00   \n",
      "\n",
      "\n",
      "   OPE ID                                        School State Zip Code  \\\n",
      "0  100200  ALABAMA AGRICULTURAL & MECHANICAL UNIVERSITY    AL    35762   \n",
      "1  100300                           FAULKNER UNIVERSITY    AL    36109   \n",
      "\n",
      "         School Type  dls_rec  dls_nlo          dls_dlo   dls_nd  \\\n",
      "0             Public   2,541    2,552    $9,933,986.00    2,552    \n",
      "1  Private-Nonprofit   1,059    1,067    $3,585,905.00    1,172    \n",
      "\n",
      "            dls_dd dluu_rec dluu_nlo         dluu_dlo  dluu_nd  \\\n",
      "0   $5,219,613.00    2,591    2,856    $9,902,541.00    2,856    \n",
      "1   $1,886,575.00      936    1,008    $2,788,203.00    1,076    \n",
      "\n",
      "           dluu_dd dlug_rec dlug_nlo          dlug_dlo dlug_nd  \\\n",
      "0   $5,264,504.00      862      883    $15,242,273.00     883    \n",
      "1   $1,391,846.00      437      443     $6,641,677.00     447    \n",
      "\n",
      "           dlug_dd dlpp_rec dlpp_nlo         dlpp_dlo dlpp_nd  \\\n",
      "0   $7,938,704.00      695      707    $8,063,228.00     707    \n",
      "1   $3,454,170.00      140      146    $1,280,215.00     150    \n",
      "\n",
      "           dlpp_dd dlgp_rec dlgp_nlo         dlgp_dlo dlgp_nd  \\\n",
      "0   $4,242,989.00      133      134      $788,345.00     134    \n",
      "1     $663,204.00      191      206    $5,100,279.00     207    \n",
      "\n",
      "           dlgp_dd  Unnamed: 30  \n",
      "0     $431,138.00           NaN  \n",
      "1   $2,600,270.00           NaN  \n"
     ]
    }
   ],
   "source": [
    "# confirm that the new column headers look reasonable\n",
    "\n",
    "print data_2010.head(2)\n",
    "print '\\n'\n",
    "print data_2015.head(2)"
   ]
  },
  {
   "cell_type": "markdown",
   "metadata": {},
   "source": [
    "The columns look reasonable. The application states that I should exclude all rows where:\n",
    "\n",
    "* The school is designated as a foreign institution.\n",
    "* The final digit of the school's ZIP code is 3, 5, or 7."
   ]
  },
  {
   "cell_type": "code",
   "execution_count": 5,
   "metadata": {
    "collapsed": false
   },
   "outputs": [
    {
     "name": "stdout",
     "output_type": "stream",
     "text": [
      "2010 school types:\n",
      "PROPRIETARY           1789\n",
      "PRIVATE               1524\n",
      "PUBLIC                1383\n",
      "FOREIGN PUBLIC         169\n",
      "FOREIGN PRIVATE         49\n",
      "FOREIGN FOR-PROFIT       4\n",
      "Name: School Type, dtype: int64\n",
      "\n",
      "\n",
      "2015 school types:\n",
      "Proprietary           1735\n",
      "Private-Nonprofit     1510\n",
      "Public                1318\n",
      "Foreign-Public         166\n",
      "Foreign-Private         61\n",
      "Foreign-For-Profit       7\n",
      "Name: School Type, dtype: int64\n"
     ]
    }
   ],
   "source": [
    "# exclude rows where school is a foreign institution\n",
    "\n",
    "# get the names of the various school type options\n",
    "\n",
    "print \"2010 school types:\\n\", data_2010['School Type'].value_counts()\n",
    "print '\\n'\n",
    "print \"2015 school types:\\n\", data_2015['School Type'].value_counts()"
   ]
  },
  {
   "cell_type": "code",
   "execution_count": 6,
   "metadata": {
    "collapsed": false
   },
   "outputs": [
    {
     "name": "stdout",
     "output_type": "stream",
     "text": [
      "2010-2011 data file length BEFORE dropping foreign schools: 5597\n",
      "2015-2016 data file length BEFORE dropping foreign schools: 4797\n",
      "2010-2011 data file length AFTER dropping foreign schools: 4696\n",
      "2015-2016 data file length AFTER dropping foreign schools: 4563\n"
     ]
    }
   ],
   "source": [
    "# drop rows containing foreign institutions\n",
    "\n",
    "print \"2010-2011 data file length BEFORE dropping foreign schools:\", len(data_2010)\n",
    "print \"2015-2016 data file length BEFORE dropping foreign schools:\",len(data_2015)\n",
    "\n",
    "data_2010 = data_2010[(data_2010['School Type'] == 'PROPRIETARY') | (data_2010['School Type'] == 'PRIVATE') |\n",
    "                      (data_2010['School Type'] == 'PUBLIC')]\n",
    "\n",
    "data_2015 = data_2015[(data_2015['School Type'] == 'Proprietary') | (data_2015['School Type'] == 'Private-Nonprofit') |\n",
    "                      (data_2015['School Type'] == 'Public')]\n",
    "\n",
    "print \"2010-2011 data file length AFTER dropping foreign schools:\", len(data_2010)\n",
    "print \"2015-2016 data file length AFTER dropping foreign schools:\", len(data_2015)"
   ]
  },
  {
   "cell_type": "code",
   "execution_count": 7,
   "metadata": {
    "collapsed": false
   },
   "outputs": [
    {
     "name": "stdout",
     "output_type": "stream",
     "text": [
      "2010-2011 data file length BEFORE dropping schools with zips ending in 3,5,7: 4696\n",
      "2015-2016 data file length BEFORE dropping schools with zips ending in 3,5,7: 4563\n",
      "2010-2011 data file length AFTER dropping schools with zips ending in 3,5,7: 3401\n",
      "2015-2016 data file length AFTER dropping schools with zips ending in 3,5,7: 3315\n"
     ]
    }
   ],
   "source": [
    "# exclude rows where zip code ends in 3,5 or 7\n",
    "\n",
    "# create a small function to identify whether the last digit is a 3,5,7\n",
    "\n",
    "def last_digit(x):\n",
    "    if x[-1] == '3':\n",
    "        y = 1\n",
    "    elif x[-1] == '5':\n",
    "        y = 1\n",
    "    elif x[-1] == '7':\n",
    "        y = 1\n",
    "    else:\n",
    "        y = 0\n",
    "    return y\n",
    "\n",
    "# create a new column in each dataframe to identify zip codes that match the criteria\n",
    "\n",
    "data_2010['zip_check'] = data_2010['Zip Code'].apply(last_digit)\n",
    "data_2015['zip_check'] = data_2015['Zip Code'].apply(last_digit)\n",
    "\n",
    "# filter out any rows where the value of zip_check is 1 (i.e. this means the zip ends in 3,5 or 7)\n",
    "\n",
    "print \"2010-2011 data file length BEFORE dropping schools with zips ending in 3,5,7:\",len(data_2010)\n",
    "print \"2015-2016 data file length BEFORE dropping schools with zips ending in 3,5,7:\",len(data_2015)\n",
    "\n",
    "data_2010 = data_2010[data_2010['zip_check'] == 0]\n",
    "data_2015 = data_2015[data_2015['zip_check'] == 0]\n",
    "\n",
    "print \"2010-2011 data file length AFTER dropping schools with zips ending in 3,5,7:\",len(data_2010)\n",
    "print \"2015-2016 data file length AFTER dropping schools with zips ending in 3,5,7:\",len(data_2015)"
   ]
  },
  {
   "cell_type": "markdown",
   "metadata": {},
   "source": [
    "I can now start addressing the 5 application questions"
   ]
  },
  {
   "cell_type": "markdown",
   "metadata": {},
   "source": [
    "### QUESTION 1\n",
    "\n",
    "Consider all of the schools that disbursed a total of greater than or equal to 2,000 USD and less than 9,500 USD in loans for the time period reported on the spreadsheets provided (i.e. quarter 1). How many more schools met this criteria in 2015 than in 2010?"
   ]
  },
  {
   "cell_type": "code",
   "execution_count": 8,
   "metadata": {
    "collapsed": false
   },
   "outputs": [],
   "source": [
    "# create a new column that totals up the disbursed loan amounts\n",
    "\n",
    "# first remove $ signs and commas from the dataframe and convert '-   ' to 0\n",
    "\n",
    "data_2010.replace('\\$','',regex=True,inplace=True)\n",
    "data_2015.replace('\\$','',regex=True,inplace=True)\n",
    "data_2010.replace(',','',regex=True,inplace=True)\n",
    "data_2015.replace(',','',regex=True,inplace=True)\n",
    "data_2010.replace('-   ',0,regex=True,inplace=True)\n",
    "data_2015.replace('-   ',0,regex=True,inplace=True)"
   ]
  },
  {
   "cell_type": "code",
   "execution_count": 9,
   "metadata": {
    "collapsed": false
   },
   "outputs": [
    {
     "data": {
      "text/plain": [
       "['OPE ID',\n",
       " 'School',\n",
       " 'State',\n",
       " 'Zip Code',\n",
       " 'School Type',\n",
       " 'dlsu_rec',\n",
       " 'dlsu_nlo',\n",
       " 'dlsu_dlo',\n",
       " 'dlsu_nd',\n",
       " 'dlsu_dd',\n",
       " 'dlsg_rec',\n",
       " 'dlsg_nlo',\n",
       " 'dlsg_dlo',\n",
       " 'dlsg_nd',\n",
       " 'dlsg_dd',\n",
       " 'dluu_rec',\n",
       " 'dluu_nlo',\n",
       " 'dluu_dlo',\n",
       " 'dluu_nd',\n",
       " 'dluu_dd',\n",
       " 'dlug_rec',\n",
       " 'dlug_nlo',\n",
       " 'dlug_dlo',\n",
       " 'dlug_nd',\n",
       " 'dlug_dd',\n",
       " 'dlpp_rec',\n",
       " 'dlpp_nlo',\n",
       " 'dlpp_dlo',\n",
       " 'dlpp_nd',\n",
       " 'dlpp_dd',\n",
       " 'dlgp_rec',\n",
       " 'dlgp_nlo',\n",
       " 'dlgp_dlo',\n",
       " 'dlgp_nd',\n",
       " 'dlgp_dd',\n",
       " 'zip_check']"
      ]
     },
     "execution_count": 9,
     "metadata": {},
     "output_type": "execute_result"
    }
   ],
   "source": [
    "# print a list of column names for easy copy / paste into a list of columns to convert to numbers\n",
    "\n",
    "list(data_2010)"
   ]
  },
  {
   "cell_type": "code",
   "execution_count": 10,
   "metadata": {
    "collapsed": false
   },
   "outputs": [
    {
     "data": {
      "text/plain": [
       "['OPE ID',\n",
       " 'School',\n",
       " 'State',\n",
       " 'Zip Code',\n",
       " 'School Type',\n",
       " 'dls_rec',\n",
       " 'dls_nlo',\n",
       " 'dls_dlo',\n",
       " 'dls_nd',\n",
       " 'dls_dd',\n",
       " 'dluu_rec',\n",
       " 'dluu_nlo',\n",
       " 'dluu_dlo',\n",
       " 'dluu_nd',\n",
       " 'dluu_dd',\n",
       " 'dlug_rec',\n",
       " 'dlug_nlo',\n",
       " 'dlug_dlo',\n",
       " 'dlug_nd',\n",
       " 'dlug_dd',\n",
       " 'dlpp_rec',\n",
       " 'dlpp_nlo',\n",
       " 'dlpp_dlo',\n",
       " 'dlpp_nd',\n",
       " 'dlpp_dd',\n",
       " 'dlgp_rec',\n",
       " 'dlgp_nlo',\n",
       " 'dlgp_dlo',\n",
       " 'dlgp_nd',\n",
       " 'dlgp_dd',\n",
       " 'Unnamed: 30',\n",
       " 'zip_check']"
      ]
     },
     "execution_count": 10,
     "metadata": {},
     "output_type": "execute_result"
    }
   ],
   "source": [
    "#repeat for 2015\n",
    "\n",
    "list(data_2015)"
   ]
  },
  {
   "cell_type": "code",
   "execution_count": 11,
   "metadata": {
    "collapsed": true
   },
   "outputs": [],
   "source": [
    "# convert columns of interest to numbers\n",
    "\n",
    "cols_2010 = ['Zip Code','dlsu_rec',\n",
    " 'dlsu_nlo',\n",
    " 'dlsu_dlo',\n",
    " 'dlsu_nd',\n",
    " 'dlsu_dd',\n",
    " 'dlsg_rec',\n",
    " 'dlsg_nlo',\n",
    " 'dlsg_dlo',\n",
    " 'dlsg_nd',\n",
    " 'dlsg_dd',\n",
    " 'dluu_rec',\n",
    " 'dluu_nlo',\n",
    " 'dluu_dlo',\n",
    " 'dluu_nd',\n",
    " 'dluu_dd',\n",
    " 'dlug_rec',\n",
    " 'dlug_nlo',\n",
    " 'dlug_dlo',\n",
    " 'dlug_nd',\n",
    " 'dlug_dd',\n",
    " 'dlpp_rec',\n",
    " 'dlpp_nlo',\n",
    " 'dlpp_dlo',\n",
    " 'dlpp_nd',\n",
    " 'dlpp_dd',\n",
    " 'dlgp_rec',\n",
    " 'dlgp_nlo',\n",
    " 'dlgp_dlo',\n",
    " 'dlgp_nd',\n",
    " 'dlgp_dd']\n",
    "\n",
    "cols_2015 = ['Zip Code','dls_rec',\n",
    " 'dls_nlo',\n",
    " 'dls_dlo',\n",
    " 'dls_nd',\n",
    " 'dls_dd',\n",
    " 'dluu_rec',\n",
    " 'dluu_nlo',\n",
    " 'dluu_dlo',\n",
    " 'dluu_nd',\n",
    " 'dluu_dd',\n",
    " 'dlug_rec',\n",
    " 'dlug_nlo',\n",
    " 'dlug_dlo',\n",
    " 'dlug_nd',\n",
    " 'dlug_dd',\n",
    " 'dlpp_rec',\n",
    " 'dlpp_nlo',\n",
    " 'dlpp_dlo',\n",
    " 'dlpp_nd',\n",
    " 'dlpp_dd',\n",
    " 'dlgp_rec',\n",
    " 'dlgp_nlo',\n",
    " 'dlgp_dlo',\n",
    " 'dlgp_nd',\n",
    " 'dlgp_dd']\n",
    "\n",
    "data_2010.ix[:, cols_2010] = data_2010.ix[:, cols_2010].apply(pd.to_numeric)\n",
    "data_2015.ix[:, cols_2015] = data_2015.ix[:, cols_2015].apply(pd.to_numeric)"
   ]
  },
  {
   "cell_type": "code",
   "execution_count": 12,
   "metadata": {
    "collapsed": false
   },
   "outputs": [
    {
     "name": "stdout",
     "output_type": "stream",
     "text": [
      "2010 data column types:\n",
      "OPE ID         float64\n",
      "School          object\n",
      "State           object\n",
      "Zip Code         int64\n",
      "School Type     object\n",
      "dlsu_rec         int64\n",
      "dlsu_nlo         int64\n",
      "dlsu_dlo       float64\n",
      "dlsu_nd          int64\n",
      "dlsu_dd        float64\n",
      "dlsg_rec         int64\n",
      "dlsg_nlo         int64\n",
      "dlsg_dlo       float64\n",
      "dlsg_nd          int64\n",
      "dlsg_dd        float64\n",
      "dluu_rec         int64\n",
      "dluu_nlo         int64\n",
      "dluu_dlo       float64\n",
      "dluu_nd          int64\n",
      "dluu_dd        float64\n",
      "dlug_rec         int64\n",
      "dlug_nlo         int64\n",
      "dlug_dlo       float64\n",
      "dlug_nd          int64\n",
      "dlug_dd        float64\n",
      "dlpp_rec         int64\n",
      "dlpp_nlo         int64\n",
      "dlpp_dlo       float64\n",
      "dlpp_nd          int64\n",
      "dlpp_dd        float64\n",
      "dlgp_rec         int64\n",
      "dlgp_nlo         int64\n",
      "dlgp_dlo       float64\n",
      "dlgp_nd          int64\n",
      "dlgp_dd        float64\n",
      "zip_check        int64\n",
      "dtype: object\n",
      "2015 data column types:\n",
      "OPE ID           int64\n",
      "School          object\n",
      "State           object\n",
      "Zip Code         int64\n",
      "School Type     object\n",
      "dls_rec          int64\n",
      "dls_nlo          int64\n",
      "dls_dlo        float64\n",
      "dls_nd           int64\n",
      "dls_dd         float64\n",
      "dluu_rec         int64\n",
      "dluu_nlo         int64\n",
      "dluu_dlo       float64\n",
      "dluu_nd          int64\n",
      "dluu_dd        float64\n",
      "dlug_rec         int64\n",
      "dlug_nlo         int64\n",
      "dlug_dlo       float64\n",
      "dlug_nd          int64\n",
      "dlug_dd        float64\n",
      "dlpp_rec         int64\n",
      "dlpp_nlo         int64\n",
      "dlpp_dlo       float64\n",
      "dlpp_nd          int64\n",
      "dlpp_dd        float64\n",
      "dlgp_rec         int64\n",
      "dlgp_nlo         int64\n",
      "dlgp_dlo       float64\n",
      "dlgp_nd          int64\n",
      "dlgp_dd        float64\n",
      "Unnamed: 30    float64\n",
      "zip_check        int64\n",
      "dtype: object\n"
     ]
    }
   ],
   "source": [
    "# confirm the data types\n",
    "\n",
    "print \"2010 data column types:\\n\",data_2010.dtypes\n",
    "print \"2015 data column types:\\n\",data_2015.dtypes"
   ]
  },
  {
   "cell_type": "code",
   "execution_count": 13,
   "metadata": {
    "collapsed": false
   },
   "outputs": [],
   "source": [
    "# Create a column that sums up all the dispursed amounts for each school for each year\n",
    "\n",
    "data_2010['total_disp'] = (data_2010['dlsu_dd'] + data_2010['dlsg_dd'] + data_2010['dluu_dd']\n",
    "                           + data_2010['dlug_dd'] + data_2010['dlpp_dd'] + data_2010['dlgp_dd'])\n",
    "\n",
    "data_2015['total_disp'] = (data_2015['dls_dd'] + data_2015['dluu_dd']\n",
    "                           + data_2015['dlug_dd'] + data_2015['dlpp_dd'] + data_2015['dlgp_dd'])"
   ]
  },
  {
   "cell_type": "code",
   "execution_count": 18,
   "metadata": {
    "collapsed": false
   },
   "outputs": [
    {
     "name": "stdout",
     "output_type": "stream",
     "text": [
      "Schools with $2,000 <= total dispursed < $,9000 (2010):\n",
      "145\n",
      "Schools with $2,000 <= total dispursed < $,9000 (2015):\n",
      "151\n"
     ]
    }
   ],
   "source": [
    "# Answer the question: find a count for each of the two years of the number of schools that disbursed a total amount\n",
    "# >= $2,000 and less than $9,500\n",
    "\n",
    "print \"Schools with $2,000 <= total dispursed < $,9000 (2010):\"\n",
    "print (len (data_2010[(data_2010['total_disp'] >= 2000) & (data_2010['total_disp'] < 9500)]))\n",
    "\n",
    "print \"Schools with $2,000 <= total dispursed < $,9000 (2015):\"\n",
    "print (len (data_2015[(data_2015['total_disp'] >= 2000) & (data_2015['total_disp'] < 9500)]))"
   ]
  },
  {
   "cell_type": "markdown",
   "metadata": {},
   "source": [
    "### QUESTION 1 ANSWER\n",
    "\n",
    "6 (151 minus 145) more schools met the criteria in 2015 vs. 2010."
   ]
  },
  {
   "cell_type": "markdown",
   "metadata": {},
   "source": [
    "### QUESTION 2\n",
    "\n",
    "Consider the sum of expected total loan amount if the loans were fully disbursed for each school. In 2010 as compared to 2015, for how many more schools was this amount greater than $20,000,000?"
   ]
  },
  {
   "cell_type": "code",
   "execution_count": 15,
   "metadata": {
    "collapsed": true
   },
   "outputs": [],
   "source": [
    "# Create a column that sums up all the expected loan amounts for each school for each year\n",
    "\n",
    "data_2010['total_loan_amt'] = (data_2010['dlsu_dlo'] + data_2010['dlsg_dlo'] + data_2010['dluu_dlo']\n",
    "                           + data_2010['dlug_dlo'] + data_2010['dlpp_dlo'] + data_2010['dlgp_dlo'])\n",
    "\n",
    "data_2015['total_loan_amt'] = (data_2015['dls_dlo'] + data_2015['dluu_dlo']\n",
    "                           + data_2015['dlug_dlo'] + data_2015['dlpp_dlo'] + data_2015['dlgp_dlo'])"
   ]
  },
  {
   "cell_type": "code",
   "execution_count": 16,
   "metadata": {
    "collapsed": false
   },
   "outputs": [
    {
     "name": "stdout",
     "output_type": "stream",
     "text": [
      "count    3.401000e+03\n",
      "mean     6.641916e+06\n",
      "std      1.805718e+07\n",
      "min      6.200000e+01\n",
      "25%      1.161010e+05\n",
      "50%      9.295180e+05\n",
      "75%      5.382443e+06\n",
      "max      3.575169e+08\n",
      "Name: total_disp, dtype: float64\n",
      "count    3.315000e+03\n",
      "mean     6.701368e+06\n",
      "std      1.693591e+07\n",
      "min      2.220000e+02\n",
      "25%      8.073700e+04\n",
      "50%      7.666100e+05\n",
      "75%      5.234610e+06\n",
      "max      2.466167e+08\n",
      "Name: total_disp, dtype: float64\n",
      "count    3.401000e+03\n",
      "mean     1.273155e+07\n",
      "std      3.378042e+07\n",
      "min      1.240000e+02\n",
      "25%      2.229590e+05\n",
      "50%      1.906502e+06\n",
      "75%      1.012131e+07\n",
      "max      6.235302e+08\n",
      "Name: total_loan_amt, dtype: float64\n",
      "count    3.315000e+03\n",
      "mean     1.260603e+07\n",
      "std      3.100347e+07\n",
      "min      4.430000e+02\n",
      "25%      1.577915e+05\n",
      "50%      1.464339e+06\n",
      "75%      1.009592e+07\n",
      "max      4.540196e+08\n",
      "Name: total_loan_amt, dtype: float64\n"
     ]
    }
   ],
   "source": [
    "# Do a 'sanity check' on the total numbers for each year:\n",
    "\n",
    "print (data_2010['total_disp'].describe())\n",
    "print (data_2015['total_disp'].describe())\n",
    "print (data_2010['total_loan_amt'].describe())\n",
    "print (data_2015['total_loan_amt'].describe())"
   ]
  },
  {
   "cell_type": "code",
   "execution_count": 19,
   "metadata": {
    "collapsed": false
   },
   "outputs": [
    {
     "name": "stdout",
     "output_type": "stream",
     "text": [
      "Schools with > $20MM expected total loan amount (2010):\n",
      "506\n",
      "Schools with > $20MM expected total loan amount (2015):\n",
      "505\n"
     ]
    }
   ],
   "source": [
    "# Answer the question: find a count for each of the two years of the number of schools that had an expected total\n",
    "# loan amount in excess of $20,000,000\n",
    "\n",
    "print \"Schools with > $20MM expected total loan amount (2010):\"\n",
    "print (len (data_2010[(data_2010['total_loan_amt'] > 20000000)]))\n",
    "\n",
    "print \"Schools with > $20MM expected total loan amount (2015):\"\n",
    "print (len (data_2015[(data_2015['total_loan_amt'] > 20000000)]))"
   ]
  },
  {
   "cell_type": "markdown",
   "metadata": {},
   "source": [
    "### QUESTION 2 ANSWER\n",
    "\n",
    "1 (506 minus 505) more school met the criteria in 2010 vs. 2015."
   ]
  },
  {
   "cell_type": "markdown",
   "metadata": {},
   "source": [
    "### QUESTION 3\n",
    "\n",
    "In 2015, consider all the colonial colleges founded before the declaration of independence. Amongst these, what was the largest number of recipients within a school for either DL Graduate or DL Grad Plus loans?"
   ]
  },
  {
   "cell_type": "code",
   "execution_count": 20,
   "metadata": {
    "collapsed": false
   },
   "outputs": [
    {
     "name": "stdout",
     "output_type": "stream",
     "text": [
      "HARVARD UNIVERSITY\n",
      "721    2254\n",
      "Name: dlug_rec, dtype: int64\n",
      "721    1221\n",
      "Name: dlgp_rec, dtype: int64\n",
      "COLLEGE OF WILLIAM & MARY\n",
      "Series([], Name: dlug_rec, dtype: int64)\n",
      "Series([], Name: dlgp_rec, dtype: int64)\n",
      "YALE UNIVERSITY\n",
      "254    1677\n",
      "Name: dlug_rec, dtype: int64\n",
      "254    726\n",
      "Name: dlgp_rec, dtype: int64\n",
      "PRINCETON UNIVERSITY\n",
      "1000    16\n",
      "Name: dlug_rec, dtype: int64\n",
      "1000    5\n",
      "Name: dlgp_rec, dtype: int64\n",
      "COLUMBIA UNIVERSITY\n",
      "Series([], Name: dlug_rec, dtype: int64)\n",
      "Series([], Name: dlgp_rec, dtype: int64)\n",
      "UNIVERSITY OF PENNSYLVANIA\n",
      "1439    2886\n",
      "Name: dlug_rec, dtype: int64\n",
      "1439    1506\n",
      "Name: dlgp_rec, dtype: int64\n",
      "BROWN UNIVERSITY\n",
      "1453    299\n",
      "Name: dlug_rec, dtype: int64\n",
      "1453    83\n",
      "Name: dlgp_rec, dtype: int64\n",
      "RUTGERS, THE STATE UNIVERSITY OF NEW JERSEY\n",
      "Series([], Name: dlug_rec, dtype: int64)\n",
      "Series([], Name: dlgp_rec, dtype: int64)\n",
      "DARTMOUTH COLLEGE\n",
      "Series([], Name: dlug_rec, dtype: int64)\n",
      "Series([], Name: dlgp_rec, dtype: int64)\n"
     ]
    }
   ],
   "source": [
    "'''\n",
    "A list of the 9 colonial colleges can be found at:\n",
    "https://en.wikipedia.org/wiki/Colonial_colleges\n",
    "'''\n",
    "\n",
    "# create a list of the colonial colleges\n",
    "\n",
    "colonial = ['HARVARD UNIVERSITY','COLLEGE OF WILLIAM & MARY','YALE UNIVERSITY','PRINCETON UNIVERSITY',\n",
    "            'COLUMBIA UNIVERSITY','UNIVERSITY OF PENNSYLVANIA','BROWN UNIVERSITY',\n",
    "            'RUTGERS, THE STATE UNIVERSITY OF NEW JERSEY','DARTMOUTH COLLEGE']\n",
    "\n",
    "# loop over the list and find the number of graduate recipients for each school\n",
    "\n",
    "for school in colonial:\n",
    "    print school\n",
    "    print data_2015['dlug_rec'][data_2015['School'] == school]\n",
    "    print data_2015['dlgp_rec'][data_2015['School'] == school]"
   ]
  },
  {
   "cell_type": "markdown",
   "metadata": {},
   "source": [
    "### QUESTION 3 ANSWER\n",
    "\n",
    "By inspecting the above list, the largest number of recipients of DL Graduate or Graduate Plus loans in 2015 occured for the University of Pennsylvania, which had 2,886 DL Unsubsidized - Graduate loans that year.\n",
    "\n",
    "NOTE: 4 of the 9 colleges were not even considered, due to the zip code requirement established for this analysis (i.e. no zip codes ending in 3,5, or 7)"
   ]
  },
  {
   "cell_type": "markdown",
   "metadata": {},
   "source": [
    "### QUESTION 4\n",
    "\n",
    "In 2015, consider all the private nonprofit schools in King county, WA. For these schools, consider the expected total loan amount if the loan is fully disbursed for unsubsidized graduate studies. Exclude all schools where the unsubsidized graduate loan amount is not available i.e. “-” or 0. What was the median value?"
   ]
  },
  {
   "cell_type": "code",
   "execution_count": 21,
   "metadata": {
    "collapsed": false
   },
   "outputs": [
    {
     "name": "stdout",
     "output_type": "stream",
     "text": [
      "       OPE ID                                           School State  \\\n",
      "1735   378800                       SEATTLE PACIFIC UNIVERSITY    WA   \n",
      "1736   379000                               SEATTLE UNIVERSITY    WA   \n",
      "2727  1231500                      CORNISH COLLEGE OF THE ARTS    WA   \n",
      "2791  1302200                       CITY UNIVERSITY OF SEATTLE    WA   \n",
      "3118  2242500                                BASTYR UNIVERSITY    WA   \n",
      "3914  3466400  SEATTLE SCHOOL OF THEOLOGY AND PSYCHOLOGY (THE)    WA   \n",
      "\n",
      "      Zip Code        School Type  dls_rec  dls_nlo    dls_dlo  dls_nd  \\\n",
      "1735     98119  Private-Nonprofit     1511     1574  6648800.0    1574   \n",
      "1736     98122  Private-Nonprofit     1537     1537  6796469.0    1538   \n",
      "2727     98121  Private-Nonprofit      454      464  2017502.0     464   \n",
      "2791     98121  Private-Nonprofit      188      196   655667.0     196   \n",
      "3118     98028  Private-Nonprofit      164      167   827441.0     209   \n",
      "3914     98121  Private-Nonprofit        0        0        0.0       0   \n",
      "\n",
      "         dls_dd  dluu_rec  dluu_nlo   dluu_dlo  dluu_nd    dluu_dd  dlug_rec  \\\n",
      "1735  2380174.0      1563      1676  5303244.0     1676  1908918.0       143   \n",
      "1736  2369787.0      1653      1677  5870124.0     1678  2052615.0       560   \n",
      "2727  1041144.0       484       523  1748325.0      523   916774.0         0   \n",
      "2791   226157.0       189       193   904314.0      193   315641.0       375   \n",
      "3118   416632.0       165       170   936681.0      213   499723.0       568   \n",
      "3914        0.0         0         0        0.0        0        0.0       197   \n",
      "\n",
      "      dlug_nlo    dlug_dlo  dlug_nd    dlug_dd  dlpp_rec  dlpp_nlo   dlpp_dlo  \\\n",
      "1735       145   2564227.0      145   902547.0       352       363  5710484.0   \n",
      "1736       561  10323317.0      586  4487089.0       307       309  7596322.0   \n",
      "2727         0         0.0        0        0.0       167       172  3552347.0   \n",
      "2791       383   5889721.0      383  1901792.0         2         2    47564.0   \n",
      "3118       942  17600636.0     1243  8122581.0        14        14   362285.0   \n",
      "3914       197   3602478.0      200  1295282.0         0         0        0.0   \n",
      "\n",
      "      dlpp_nd    dlpp_dd  dlgp_rec  dlgp_nlo   dlgp_dlo  dlgp_nd    dlgp_dd  \\\n",
      "1735      363  2013857.0        29        31   318624.0       31   104771.0   \n",
      "1736      309  2695676.0       330       382  8225224.0      384  4218901.0   \n",
      "2727      172  1855065.0         0         0        0.0        0        0.0   \n",
      "2791        2    11891.0        30        30   397725.0       30   129125.0   \n",
      "3118       16   148162.0       294       295  7790678.0      401  3694722.0   \n",
      "3914        0        0.0        39        39   383741.0       40   145894.0   \n",
      "\n",
      "      Unnamed: 30  zip_check  total_disp  total_loan_amt  king  \n",
      "1735          NaN          0   7310267.0      20545379.0     1  \n",
      "1736          NaN          0  15824068.0      38811456.0     1  \n",
      "2727          NaN          0   3812983.0       7318174.0     1  \n",
      "2791          NaN          0   2584606.0       7894991.0     1  \n",
      "3118          NaN          0  12881820.0      27517721.0     1  \n",
      "3914          NaN          0   1441176.0       3986219.0     1  \n"
     ]
    }
   ],
   "source": [
    "'''\n",
    "Zip codes are the best way to find all King County, WA schools. The following site provides a list of King County\n",
    "zip codes:\n",
    "\n",
    "http://www.zipcodestogo.com/King/WA/\n",
    "\n",
    "king_zip = [98001,98002,98003,98004,98005,98006,98007,98008,98009,98010,98011,98013,98014,98015,98019,98022,98023,\n",
    "98024,98025,98027,98028,98029,98030,98031,98032,98033,98034,98035,98038,98039,98040,98041,98042,98045,98047,\n",
    "98050,98051,98052,98053,98054,98055,98056,98057,98058,98059,98062,98063,98064,98065,98070,98071,98072,98073,\n",
    "98074,98075,98077,98083,98089,98092,98093,98101,98102,98103,98104,98105,98106,98107,98108,98109,98111,98112,\n",
    "98113,98114,98115,98116,98117,98118,98119,98121,98122,98124,98125,98126,98127,98129,98131,98132,98133,98134,98136,\n",
    "98138,98139,98141,98144,98145,98146,98148,98151,98154,98155,98158,98160,98161,98164,98165,98166,98168,98170,98171,\n",
    "98174,98175,98177,98178,98181,98184,98185,98188,98190,98191,98194,98195,98198,98199,98224,98288]\n",
    "\n",
    "'''\n",
    "\n",
    "# write a function to identify King County schools\n",
    "\n",
    "def king(row):\n",
    "    \n",
    "    king_zip = [98001,98002,98003,98004,98005,98006,98007,98008,98009,98010,98011,98013,98014,98015,98019,98022,\n",
    "                98023,98024,98025,98027,98028,98029,98030,98031,98032,98033,98034,98035,98038,98039,98040,98041,\n",
    "                98042,98045,98047,98050,98051,98052,98053,98054,98055,98056,98057,98058,98059,98062,98063,98064,\n",
    "                98065,98070,98071,98072,98073,98074,98075,98077,98083,98089,98092,98093,98101,98102,98103,98104,\n",
    "                98105,98106,98107,98108,98109,98111,98112,98113,98114,98115,98116,98117,98118,98119,98121,98122,\n",
    "                98124,98125,98126,98127,98129,98131,98132,98133,98134,98136,98138,98139,98141,98144,98145,98146,\n",
    "                98148,98151,98154,98155,98158,98160,98161,98164,98165,98166,98168,98170,98171,98174,98175,98177,\n",
    "                98178,98181,98184,98185,98188,98190,98191,98194,98195,98198,98199,98224,98288]\n",
    "    \n",
    "    if row['Zip Code'] in king_zip:\n",
    "        y = 1\n",
    "    else:\n",
    "        y = 0\n",
    "    return y\n",
    "\n",
    "data_2015['king'] = data_2015.apply(king,axis=1)\n",
    "\n",
    "# filter the 2015 dataframe for private nonprofit, King County schools\n",
    "\n",
    "data_2015_king = data_2015[(data_2015['king'] == 1) & (data_2015['School Type'] == 'Private-Nonprofit')]\n",
    "print data_2015_king"
   ]
  },
  {
   "cell_type": "code",
   "execution_count": 22,
   "metadata": {
    "collapsed": false
   },
   "outputs": [
    {
     "data": {
      "text/plain": [
       "5889721.0"
      ]
     },
     "execution_count": 22,
     "metadata": {},
     "output_type": "execute_result"
    }
   ],
   "source": [
    "# the value of interest is the 'dlug_dlo' field (i.e. DL unsubsidized graduate - $ loan originated)\n",
    "# exclude any schools with a value of zero and find the median of those remaining - use pandas 'median' function\n",
    "\n",
    "data_2015_king[data_2015_king['dlug_dlo'] > 0]['dlug_dlo'].median()"
   ]
  },
  {
   "cell_type": "markdown",
   "metadata": {},
   "source": [
    "### QUESTION 4 ANSWER\n",
    "\n",
    "The median value for the field of interest is $5,889,721"
   ]
  },
  {
   "cell_type": "markdown",
   "metadata": {},
   "source": [
    "### QUESTION 5\n",
    "\n",
    "Consider all the schools who were football champions in National Collegiate Athletic Association (reference: www.ncaa.com) from 2001 to 2015 (both years included) in the FBS division. For these schools (only include main campuses that participate in football and not all campuses) consider the expected total loan amount if the loan is fully disbursed for GRAD PLUS loans in 2015 data provided. Calculate the sum of these amounts."
   ]
  },
  {
   "cell_type": "code",
   "execution_count": 23,
   "metadata": {
    "collapsed": false
   },
   "outputs": [
    {
     "name": "stdout",
     "output_type": "stream",
     "text": [
      "      OPE ID                             School State  Zip Code  \\\n",
      "6     100900                  AUBURN UNIVERSITY    AL     36849   \n",
      "206   132800  UNIVERSITY OF SOUTHERN CALIFORNIA    CA     90089   \n",
      "288   148900           FLORIDA STATE UNIVERSITY    FL     32306   \n",
      "315   153500              UNIVERSITY OF FLORIDA    FL     32611   \n",
      "316   153600                UNIVERSITY OF MIAMI    FL     33146   \n",
      "1265  309000              OHIO STATE UNIVERSITY    OH     43210   \n",
      "1640  365800       UNIVERSITY OF TEXAS - AUSTIN    TX     78712   \n",
      "\n",
      "            School Type  dls_rec  dls_nlo     dls_dlo  dls_nd      dls_dd  \\\n",
      "6                Public     5157     5157  20947371.0    5196  11157280.0   \n",
      "206   Private-Nonprofit     4954     4955  11871728.0    4955  11871728.0   \n",
      "288              Public     7640     7640  16790741.0    7765  16680504.0   \n",
      "315              Public     5903     5983  24283327.0    5983  13350000.0   \n",
      "316   Private-Nonprofit     1941     1979   7751470.0    1979   4047601.0   \n",
      "1265             Public    14271    14539  57676747.0   14565  30609471.0   \n",
      "1640             Public     9413     9497  37205709.0    9497  20553357.0   \n",
      "\n",
      "      dluu_rec  dluu_nlo    dluu_dlo  dluu_nd     dluu_dd  dlug_rec  dlug_nlo  \\\n",
      "6         5616      5617  19985629.0     5684  10627506.0      1706      1706   \n",
      "206       4420      4550   6727283.0     4550   6724533.0      8876      9016   \n",
      "288       8125      8126  17950834.0     8326  17728865.0      2915      2915   \n",
      "315       5745      5938  23003432.0     5938  12685593.0      5082      5182   \n",
      "316       1785      1850   6880841.0     1850   3638902.0      1758      1763   \n",
      "1265     15849     17041  61110884.0    17051  32321901.0      2816      2881   \n",
      "1640      9501     10258  33804434.0    10258  18671753.0      2940      3252   \n",
      "\n",
      "         dlug_dlo  dlug_nd      dlug_dd  dlpp_rec  dlpp_nlo    dlpp_dlo  \\\n",
      "6      40252931.0     1734   20500273.0      1313      1339  29895668.0   \n",
      "206   101826719.0     9017  101795969.0      1357      1408  21316969.0   \n",
      "288    27236419.0     2997   27079487.0       750       752   9811749.0   \n",
      "315   109651634.0     5182   66833702.0      1093      1116  12822635.0   \n",
      "316    31550937.0     1766   18805010.0       487       499  12028019.0   \n",
      "1265   71445387.0     2903   36388407.0      3208      3261  45056748.0   \n",
      "1640   50499233.0     3252   27511670.0      4341      4407  52323783.0   \n",
      "\n",
      "      dlpp_nd     dlpp_dd  dlgp_rec  dlgp_nlo    dlgp_dlo  dlgp_nd  \\\n",
      "6        1351  15891326.0       322       324   5414361.0      325   \n",
      "206      1408  21045615.0      5884      6371  97571802.0     6372   \n",
      "288       771   5207410.0       430       433   6531399.0      456   \n",
      "315      1116   6845981.0      1212      1287  15893798.0     1287   \n",
      "316       504   6434911.0      1271      1326  27708286.0     1337   \n",
      "1265     3331  23740759.0      1246      1288  19617717.0     1370   \n",
      "1640     4407  30393033.0      1531      1636  20358255.0     1636   \n",
      "\n",
      "         dlgp_dd  Unnamed: 30  zip_check   total_disp  total_loan_amt  king  \\\n",
      "6      2878077.0          NaN          0   61054462.0     116495960.0     0   \n",
      "206   97408892.0          NaN          0  238846737.0     239314501.0     0   \n",
      "288    3635483.0          NaN          0   70331749.0      78321142.0     0   \n",
      "315    9158716.0          NaN          0  108873992.0     185654826.0     0   \n",
      "316   18943865.0          NaN          0   51870289.0      85919553.0     0   \n",
      "1265  10165465.0          NaN          0  133226003.0     254907483.0     0   \n",
      "1640  11855804.0          NaN          0  108985617.0     194191414.0     0   \n",
      "\n",
      "      fbs_champ  \n",
      "6             1  \n",
      "206           1  \n",
      "288           1  \n",
      "315           1  \n",
      "316           1  \n",
      "1265          1  \n",
      "1640          1  \n"
     ]
    }
   ],
   "source": [
    "'''\n",
    "The list of FBS champions is at:\n",
    "\n",
    "http://www.ncaa.com/history/football/fbs\n",
    "\n",
    "Several schools repeat (i.e. they have won multiple times). \n",
    "Generate a list of the champions and cross check the list against the data files to ensure\n",
    "the names used are in the correct format for the main campus:\n",
    "\n",
    "champs = ['UNIVERSITY OF ALABAMA','AUBURN UNIVERSITY','UNIVERSITY OF FLORIDA','FLORIDA STATE UNIVERSITY',\n",
    "'LOUISIANA STATE UNIVERSITY & AGRICULTURAL & MECHANICAL COLLEGE','OHIO STATE UNIVERSITY','UNIVERSITY OF MIAMI',\n",
    "'UNIVERSITY OF SOUTHERN CALIFORNIA','UNIVERSITY OF TEXAS - AUSTIN']\n",
    "\n",
    "'''\n",
    "\n",
    "# write a function to identify FBS Champion Schools\n",
    "\n",
    "def champions(row):\n",
    "    \n",
    "    champs = ['UNIVERSITY OF ALABAMA','AUBURN UNIVERSITY','UNIVERSITY OF FLORIDA','FLORIDA STATE UNIVERSITY',\n",
    "              'LOUISIANA STATE UNIVERSITY & AGRICULTURAL & MECHANICAL COLLEGE','OHIO STATE UNIVERSITY',\n",
    "              'UNIVERSITY OF MIAMI','UNIVERSITY OF SOUTHERN CALIFORNIA','UNIVERSITY OF TEXAS - AUSTIN']\n",
    "    \n",
    "    if row['School'] in champs:\n",
    "        y = 1\n",
    "    else:\n",
    "        y = 0\n",
    "    return y\n",
    "\n",
    "data_2015['fbs_champ'] = data_2015.apply(champions,axis=1)\n",
    "\n",
    "# filter the 2015 dataframe for FBS champion schools\n",
    "\n",
    "data_2015_champ = data_2015[(data_2015['fbs_champ'] == 1)]\n",
    "print data_2015_champ"
   ]
  },
  {
   "cell_type": "markdown",
   "metadata": {},
   "source": [
    "The above dataframe looks complete. Note that the absence of Alabama and Louisiana State from the dataframe is to be expected: both of these schools were filtered out in the initial 'zip code' filtering requested up front (i.e. no schools with zips ending in 3,5, or 7)."
   ]
  },
  {
   "cell_type": "code",
   "execution_count": 24,
   "metadata": {
    "collapsed": false
   },
   "outputs": [
    {
     "data": {
      "text/plain": [
       "193095618.0"
      ]
     },
     "execution_count": 24,
     "metadata": {},
     "output_type": "execute_result"
    }
   ],
   "source": [
    "# Answer the question: the field of interest is 'dlgp_dlo' (i.e. Direct Loan Graduate Plus total loan amount in $)\n",
    "# The question calls for the sum of this field for all FBS schools in 2015 - use the pandas 'sum' function\n",
    "\n",
    "data_2015_champ['dlgp_dlo'].sum()"
   ]
  },
  {
   "cell_type": "markdown",
   "metadata": {},
   "source": [
    "### QUESTION 5 ANSWER\n",
    "\n",
    "The sum for the field of interest is $193,095,618"
   ]
  }
 ],
 "metadata": {
  "kernelspec": {
   "display_name": "Python 2",
   "language": "python",
   "name": "python2"
  },
  "language_info": {
   "codemirror_mode": {
    "name": "ipython",
    "version": 2
   },
   "file_extension": ".py",
   "mimetype": "text/x-python",
   "name": "python",
   "nbconvert_exporter": "python",
   "pygments_lexer": "ipython2",
   "version": "2.7.12"
  }
 },
 "nbformat": 4,
 "nbformat_minor": 0
}
